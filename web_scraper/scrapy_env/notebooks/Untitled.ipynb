{
 "cells": [
  {
   "cell_type": "code",
   "execution_count": 1,
   "metadata": {},
   "outputs": [],
   "source": [
    "import scrapy\n"
   ]
  },
  {
   "cell_type": "code",
   "execution_count": 4,
   "metadata": {},
   "outputs": [
    {
     "ename": "TypeError",
     "evalue": "extract() missing 1 required positional argument: 'self'",
     "output_type": "error",
     "traceback": [
      "\u001b[0;31m---------------------------------------------------------------------------\u001b[0m",
      "\u001b[0;31mTypeError\u001b[0m                                 Traceback (most recent call last)",
      "\u001b[0;32m<ipython-input-4-171b74d50429>\u001b[0m in \u001b[0;36m<module>\u001b[0;34m()\u001b[0m\n\u001b[0;32m----> 1\u001b[0;31m \u001b[0mscrapy\u001b[0m\u001b[0;34m.\u001b[0m\u001b[0mSelector\u001b[0m\u001b[0;34m.\u001b[0m\u001b[0mextract\u001b[0m\u001b[0;34m(\u001b[0m\u001b[0;34m)\u001b[0m\u001b[0;34m\u001b[0m\u001b[0m\n\u001b[0m",
      "\u001b[0;31mTypeError\u001b[0m: extract() missing 1 required positional argument: 'self'"
     ]
    }
   ],
   "source": [
    "scrapy.Selector.extract()"
   ]
  },
  {
   "cell_type": "code",
   "execution_count": 5,
   "metadata": {},
   "outputs": [],
   "source": [
    "from lxml import html"
   ]
  },
  {
   "cell_type": "code",
   "execution_count": 80,
   "metadata": {},
   "outputs": [
    {
     "data": {
      "text/plain": [
       "[('class', 'propertyheader-secondary propertyheader-piped_list')]"
      ]
     },
     "execution_count": 80,
     "metadata": {},
     "output_type": "execute_result"
    }
   ],
   "source": [
    "element = html.fromstring('<ul class=\"propertyheader-secondary propertyheader-piped_list\">\\n<li><span itemprop=\"addressLocality\">Vancouver</span>, <span itemprop=\"addressRegion\">BC</span>, <span itemprop=\"postalCode\">V6J 1Z4</span>\\n</li>\\n<li class=\"hidden-xs hidden-sm\">\\nKitsilano\\n</li>\\n<li class=\"hidden-xs hidden-sm\">\\nListing ID:\\nR2228225\\n</li>\\n\\n</ul>')\n",
    "element.items()"
   ]
  },
  {
   "cell_type": "code",
   "execution_count": 79,
   "metadata": {},
   "outputs": [
    {
     "name": "stdout",
     "output_type": "stream",
     "text": [
      "[]\n",
      "[('class', 'hidden-xs hidden-sm')]\n",
      "[('class', 'hidden-xs hidden-sm')]\n"
     ]
    }
   ],
   "source": [
    "for li in element.findall('li'):\n",
    "    print(li.items())"
   ]
  },
  {
   "cell_type": "code",
   "execution_count": 58,
   "metadata": {},
   "outputs": [],
   "source": [
    "string = \"\"\"<span>\n",
    "<strong class=\"summarybar-label\">3</strong>\n",
    "Bed\n",
    "</span>\n",
    "\"\"\"\n",
    "string = string.replace('\\n','')\n",
    "span = html.fromstring(string)"
   ]
  },
  {
   "cell_type": "code",
   "execution_count": 78,
   "metadata": {},
   "outputs": [
    {
     "name": "stdout",
     "output_type": "stream",
     "text": [
      "<span><strong class=\"summarybar-label\">3</strong>Bed</span>\n",
      "3\n"
     ]
    },
    {
     "data": {
      "text/plain": [
       "[]"
      ]
     },
     "execution_count": 78,
     "metadata": {},
     "output_type": "execute_result"
    }
   ],
   "source": [
    "print(string)\n",
    "print(span.find(\"strong\").text)\n",
    "span."
   ]
  },
  {
   "cell_type": "code",
   "execution_count": 105,
   "metadata": {
    "scrolled": true
   },
   "outputs": [
    {
     "name": "stdout",
     "output_type": "stream",
     "text": [
      "<span><strong class=\"summarybar-label\">3</strong>Bed</span>\n",
      "Bed\n",
      "3\n",
      "<span><strong class=\"summarybar-label\">3</strong>Bath</span>\n",
      "Bath\n",
      "3\n",
      "<span><strong class=\"summarybar-label\">1573</strong>Sqft</span>\n",
      "Sqft\n",
      "1573\n",
      "<span><strong>Apt/Condo</strong><div class=\"summarybar-label hidden-md hidden-lg\">Type</div></span>\n",
      "Type\n",
      "Apt/Condo\n"
     ]
    }
   ],
   "source": [
    "spans = ['<span>\\n<strong class=\"summarybar-label\">3</strong>\\nBed\\n</span>',\n",
    " '<span>\\n<strong class=\"summarybar-label\">3</strong>\\nBath\\n</span>',\n",
    " '<span>\\n<strong class=\"summarybar-label\">\\n1573\\n</strong>\\nSqft\\n</span>',\n",
    " '<span>\\n<strong>Apt/Condo</strong>\\n<div class=\"summarybar-label hidden-md hidden-lg\">Type</div>\\n</span>']\n",
    "for span in spans:\n",
    "    text = span.replace('\\n','')\n",
    "    sp = html.fromstring(text)\n",
    "    print(text)\n",
    "    print(sp.text_content().replace(html.fromstring(text).find(\"strong\").text,''))\n",
    "    print(html.fromstring(text).find(\"strong\").text)"
   ]
  },
  {
   "cell_type": "code",
   "execution_count": 106,
   "metadata": {},
   "outputs": [],
   "source": [
    "text = \"\"\"<ul><li class=\"paginator-first paginator-control\"><i class=\"icon-backward\"></i></li><li class=\"paginator-prev paginator-control\"><i class=\"icon-play icon-rotate-180\"></i></li><li class=\"paginator-page is-active\"><a href=\"/properties/areas/vancouver-bc\">1</a></li><li class=\"paginator-page\"><a rel=\"next\" href=\"/properties/areas/vancouver-bc/page/2\">2</a></li><li class=\"paginator-page paginator-gap disabled\">...</li><li class=\"paginator-page\"><a href=\"/properties/areas/vancouver-bc/page/25\">25</a></li><li class=\"paginator-next_page paginator-control\"><a rel=\"next\" href=\"/properties/areas/vancouver-bc/page/2\"><i class=\"icon-play\"></i></a></li><li class=\"paginator-last paginator-control\"><a href=\"/properties/areas/vancouver-bc/page/25\"><i class=\"icon-forward\"></i></a></li></ul>\n",
    "\"\"\""
   ]
  },
  {
   "cell_type": "code",
   "execution_count": 109,
   "metadata": {},
   "outputs": [],
   "source": [
    "\n",
    "ul = html.fromstring(text)"
   ]
  },
  {
   "cell_type": "code",
   "execution_count": 132,
   "metadata": {},
   "outputs": [
    {
     "name": "stdout",
     "output_type": "stream",
     "text": [
      "/properties/areas/vancouver-bc/page/2\n",
      "/properties/areas/vancouver-bc/page/2\n"
     ]
    }
   ],
   "source": [
    "li_list = ul.findall(\"li\")\n",
    "for li in li_list:\n",
    "    a = li.find(\"a\")\n",
    "    if a is not None:\n",
    "        rel = a.get(\"rel\")\n",
    "        if rel == 'next':\n",
    "            print(a.get(\"href\"))"
   ]
  }
 ],
 "metadata": {
  "kernelspec": {
   "display_name": "Python 3",
   "language": "python",
   "name": "python3"
  },
  "language_info": {
   "codemirror_mode": {
    "name": "ipython",
    "version": 3
   },
   "file_extension": ".py",
   "mimetype": "text/x-python",
   "name": "python",
   "nbconvert_exporter": "python",
   "pygments_lexer": "ipython3",
   "version": "3.6.3"
  }
 },
 "nbformat": 4,
 "nbformat_minor": 2
}
