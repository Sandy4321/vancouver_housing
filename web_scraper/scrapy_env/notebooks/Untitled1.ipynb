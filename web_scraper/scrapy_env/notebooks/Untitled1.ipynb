{
 "cells": [
  {
   "cell_type": "code",
   "execution_count": 1,
   "metadata": {},
   "outputs": [
    {
     "name": "stderr",
     "output_type": "stream",
     "text": [
      "[W:pyppeteer.chromium_downloader] start chromium download.\n",
      "Download may take a few minutes.\n",
      "[W:pyppeteer.chromium_downloader] chromium download done.\n",
      "[W:pyppeteer.chromium_downloader] chromium extracted to: /home/kyle/.pyppeteer/local-chromium/497674\n"
     ]
    },
    {
     "name": "stdout",
     "output_type": "stream",
     "text": [
      "{'width': 800, 'height': 600, 'deviceScaleFactor': 1}\n"
     ]
    }
   ],
   "source": [
    "import asyncio\n",
    "from pyppeteer.launcher import launch\n",
    "\n",
    "async def main(browser):\n",
    "    page = await browser.newPage()\n",
    "    await page.goto('http://example.com')\n",
    "    await page.screenshot({'path': 'example.png'})\n",
    "\n",
    "    dimensions = await page.evaluate('''() => {\n",
    "        return {\n",
    "            width: document.documentElement.clientWidth,\n",
    "            height: document.documentElement.clientHeight,\n",
    "            deviceScaleFactor: window.devicePixelRatio,\n",
    "        }\n",
    "    }''')\n",
    "\n",
    "    print(dimensions)\n",
    "    # >>> {'width': 800, 'height': 600, 'deviceScaleFactor': 1}\n",
    "\n",
    "browser = launch()\n",
    "asyncio.get_event_loop().run_until_complete(main(browser))\n",
    "browser.close()"
   ]
  },
  {
   "cell_type": "code",
   "execution_count": 2,
   "metadata": {},
   "outputs": [],
   "source": [
    "browser = launch()"
   ]
  },
  {
   "cell_type": "code",
   "execution_count": null,
   "metadata": {},
   "outputs": [],
   "source": [
    "import asyncio\n",
    "from pyppeteer.launcher import launch\n",
    "\n",
    "async def main(browser):\n",
    "    page = await browser.newPage()\n",
    "    await page.goto('https://www.realtor.ca/Residential/map.aspx#CultureId=1&ApplicationId=1&RecordsPerPage=9&MaximumResults=9&PropertySearchTypeId=1&TransactionTypeId=2&StoreyRange=0-0&BedRange=0-0&BathRange=0-0&LongitudeMin=-124.22217559814413&LongitudeMax=-120.05286407470663&LatitudeMin=48.8046594526006&LatitudeMax=50.266137668791&SortOrder=A&SortBy=1&viewState=l&Longitude=-123.017799377441&Latitude=49.3621978759766&CurrentPage=1&ZoomLevel=9&PropertyTypeGroupID=1')\n",
    "    await page.screenshot({'path': 'example.png'})\n",
    "\n",
    "    dimensions = await page.evaluate('''() => {\n",
    "        return {\n",
    "            width: document.documentElement.clientWidth,\n",
    "            height: document.documentElement.clientHeight,\n",
    "            deviceScaleFactor: window.devicePixelRatio,\n",
    "        }\n",
    "    }''')\n",
    "\n",
    "    print(dimensions)\n",
    "    # >>> {'width': 800, 'height': 600, 'deviceScaleFactor': 1}\n",
    "\n",
    "browser = launch()\n",
    "asyncio.get_event_loop().run_until_complete(main(browser))\n",
    "browser.close()\n",
    "    "
   ]
  },
  {
   "cell_type": "code",
   "execution_count": null,
   "metadata": {},
   "outputs": [],
   "source": [
    "\n"
   ]
  }
 ],
 "metadata": {
  "kernelspec": {
   "display_name": "Python 3",
   "language": "python",
   "name": "python3"
  },
  "language_info": {
   "codemirror_mode": {
    "name": "ipython",
    "version": 3
   },
   "file_extension": ".py",
   "mimetype": "text/x-python",
   "name": "python",
   "nbconvert_exporter": "python",
   "pygments_lexer": "ipython3",
   "version": "3.6.3"
  }
 },
 "nbformat": 4,
 "nbformat_minor": 2
}
