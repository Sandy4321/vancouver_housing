{
 "cells": [
  {
   "cell_type": "markdown",
   "metadata": {},
   "source": [
    "# Part N - Linear Regression"
   ]
  },
  {
   "cell_type": "markdown",
   "metadata": {},
   "source": [
    "Let's get our feet wet with a very basic Machine Learning algorithm: Linear Regression.  \n",
    "Everyone remembers the equation of a line:  \n",
    "$$\n",
    "y = mX + b\n",
    "$$ \n",
    "\n",
    "For our first example, we will use the most highly correlated variable `sqft` as our independent variable (`X`).  \n",
    "Using known values of `y`, we will iteratively generate a \"best fit\" line using least squares.  \n",
    "We should then be able to get a (rough) `price` prediction for a new, unseen `sqft`.  \n",
    "This is called *Univariate* Linear Regression since we are using only *one* independent variable. In a later example we will cover *Multivariate* Linear Regression so we can utilize many independent variables to produce a more accurate output."
   ]
  },
  {
   "cell_type": "code",
   "execution_count": 1,
   "metadata": {},
   "outputs": [],
   "source": [
    "import time\n",
    "import pandas as pd\n",
    "import matplotlib.pyplot as plt\n",
    "import seaborn as sns\n",
    "import numpy as np\n",
    "from sklearn.linear_model import LinearRegression\n",
    "from branca.colormap import LinearColormap, StepColormap\n",
    "\n",
    "%matplotlib inline"
   ]
  },
  {
   "cell_type": "markdown",
   "metadata": {},
   "source": [
    "## Let's load the data and remind ourselves of the contents"
   ]
  },
  {
   "cell_type": "code",
   "execution_count": 2,
   "metadata": {},
   "outputs": [
    {
     "data": {
      "text/html": [
       "<div>\n",
       "<style scoped>\n",
       "    .dataframe tbody tr th:only-of-type {\n",
       "        vertical-align: middle;\n",
       "    }\n",
       "\n",
       "    .dataframe tbody tr th {\n",
       "        vertical-align: top;\n",
       "    }\n",
       "\n",
       "    .dataframe thead th {\n",
       "        text-align: right;\n",
       "    }\n",
       "</style>\n",
       "<table border=\"1\" class=\"dataframe\">\n",
       "  <thead>\n",
       "    <tr style=\"text-align: right;\">\n",
       "      <th></th>\n",
       "      <th>address</th>\n",
       "      <th>price</th>\n",
       "      <th>link</th>\n",
       "      <th>bed</th>\n",
       "      <th>bath</th>\n",
       "      <th>sqft</th>\n",
       "      <th>age</th>\n",
       "      <th>gross_taxes_2017</th>\n",
       "      <th>strata_maintenance_fees</th>\n",
       "      <th>area</th>\n",
       "      <th>sub_area</th>\n",
       "      <th>property_type</th>\n",
       "      <th>strata_type</th>\n",
       "      <th>listing_id</th>\n",
       "      <th>primary_broker</th>\n",
       "      <th>features</th>\n",
       "      <th>amenities</th>\n",
       "      <th>school_info</th>\n",
       "      <th>latlng</th>\n",
       "    </tr>\n",
       "  </thead>\n",
       "  <tbody>\n",
       "    <tr>\n",
       "      <th>0</th>\n",
       "      <td>405-12 Athletes Way</td>\n",
       "      <td>999000</td>\n",
       "      <td>https://www.rew.ca/properties/R2219336/405-12-...</td>\n",
       "      <td>2</td>\n",
       "      <td>1</td>\n",
       "      <td>884</td>\n",
       "      <td>8.0</td>\n",
       "      <td>2153.0</td>\n",
       "      <td>516.0</td>\n",
       "      <td>Vancouver West</td>\n",
       "      <td>False Creek</td>\n",
       "      <td>Apt/Condo</td>\n",
       "      <td>Freehold Strata</td>\n",
       "      <td>R2219336</td>\n",
       "      <td>Team 3000 Realty Ltd.</td>\n",
       "      <td>Air Conditioning, ClthWsh/Dryr/Frdg/Stve/DW, M...</td>\n",
       "      <td>Club House, Elevator, Exercise Centre, Garden,...</td>\n",
       "      <td>[{'name': 'Simon Fraser Elementary School', 'a...</td>\n",
       "      <td>(49.271554, -123.106738)</td>\n",
       "    </tr>\n",
       "    <tr>\n",
       "      <th>1</th>\n",
       "      <td>604-1661 Ontario Street</td>\n",
       "      <td>1398000</td>\n",
       "      <td>https://www.rew.ca/properties/R2221859/604-166...</td>\n",
       "      <td>2</td>\n",
       "      <td>2</td>\n",
       "      <td>1189</td>\n",
       "      <td>9.0</td>\n",
       "      <td>2721.0</td>\n",
       "      <td>679.0</td>\n",
       "      <td>Vancouver West</td>\n",
       "      <td>False Creek</td>\n",
       "      <td>Apt/Condo</td>\n",
       "      <td>Freehold Strata</td>\n",
       "      <td>R2221859</td>\n",
       "      <td>Trg The Residential Group Rlty</td>\n",
       "      <td>ClthWsh/Dryr/Frdg/Stve/DW, Microwave</td>\n",
       "      <td>Bike Room, Exercise Centre, In Suite Laundry, ...</td>\n",
       "      <td>[{'name': 'Simon Fraser Elementary School', 'a...</td>\n",
       "      <td>MISSING</td>\n",
       "    </tr>\n",
       "    <tr>\n",
       "      <th>2</th>\n",
       "      <td>204-1529 W 6th Avenue</td>\n",
       "      <td>699000</td>\n",
       "      <td>https://www.rew.ca/properties/R2220891/204-152...</td>\n",
       "      <td>0</td>\n",
       "      <td>1</td>\n",
       "      <td>719</td>\n",
       "      <td>21.0</td>\n",
       "      <td>1456.0</td>\n",
       "      <td>361.0</td>\n",
       "      <td>Vancouver West</td>\n",
       "      <td>False Creek</td>\n",
       "      <td>Apt/Condo</td>\n",
       "      <td>Freehold Strata</td>\n",
       "      <td>R2220891</td>\n",
       "      <td>Macdonald Realty</td>\n",
       "      <td>Dishwasher, Garage Door Opener</td>\n",
       "      <td>Elevator, Restaurant, Storage, Wheelchair Access</td>\n",
       "      <td>[{'name': 'Henry Hudson Elementary School', 'a...</td>\n",
       "      <td>MISSING</td>\n",
       "    </tr>\n",
       "    <tr>\n",
       "      <th>3</th>\n",
       "      <td>106-1551 Mariner Walk</td>\n",
       "      <td>929000</td>\n",
       "      <td>https://www.rew.ca/properties/R2222093/106-155...</td>\n",
       "      <td>2</td>\n",
       "      <td>2</td>\n",
       "      <td>1094</td>\n",
       "      <td>29.0</td>\n",
       "      <td>1983.0</td>\n",
       "      <td>493.0</td>\n",
       "      <td>Vancouver West</td>\n",
       "      <td>False Creek</td>\n",
       "      <td>Apt/Condo</td>\n",
       "      <td>Leasehold prepaid-Strata</td>\n",
       "      <td>R2222093</td>\n",
       "      <td>Engel &amp; Volkers Vancouver</td>\n",
       "      <td>ClthWsh/Dryr/Frdg/Stve/DW, Disposal - Waste, D...</td>\n",
       "      <td>Elevator, Garden, In Suite Laundry, Storage</td>\n",
       "      <td>[{'name': 'Henry Hudson Elementary School', 'a...</td>\n",
       "      <td>MISSING</td>\n",
       "    </tr>\n",
       "    <tr>\n",
       "      <th>4</th>\n",
       "      <td>1103-1783 Manitoba Street</td>\n",
       "      <td>859000</td>\n",
       "      <td>https://www.rew.ca/properties/R2222252/1103-17...</td>\n",
       "      <td>2</td>\n",
       "      <td>1</td>\n",
       "      <td>714</td>\n",
       "      <td>3.0</td>\n",
       "      <td>2018.0</td>\n",
       "      <td>361.0</td>\n",
       "      <td>Vancouver West</td>\n",
       "      <td>False Creek</td>\n",
       "      <td>Apt/Condo</td>\n",
       "      <td>Freehold Strata</td>\n",
       "      <td>R2222252</td>\n",
       "      <td>Sutton Grp West Coast (Brdwy)</td>\n",
       "      <td>ClthWsh/Dryr/Frdg/Stve/DW, Disposal - Waste, D...</td>\n",
       "      <td>Bike Room, Club House, Elevator, Exercise Cent...</td>\n",
       "      <td>[{'name': 'Simon Fraser Elementary School', 'a...</td>\n",
       "      <td>MISSING</td>\n",
       "    </tr>\n",
       "  </tbody>\n",
       "</table>\n",
       "</div>"
      ],
      "text/plain": [
       "                     address    price  \\\n",
       "0        405-12 Athletes Way   999000   \n",
       "1    604-1661 Ontario Street  1398000   \n",
       "2      204-1529 W 6th Avenue   699000   \n",
       "3      106-1551 Mariner Walk   929000   \n",
       "4  1103-1783 Manitoba Street   859000   \n",
       "\n",
       "                                                link  bed  bath  sqft   age  \\\n",
       "0  https://www.rew.ca/properties/R2219336/405-12-...    2     1   884   8.0   \n",
       "1  https://www.rew.ca/properties/R2221859/604-166...    2     2  1189   9.0   \n",
       "2  https://www.rew.ca/properties/R2220891/204-152...    0     1   719  21.0   \n",
       "3  https://www.rew.ca/properties/R2222093/106-155...    2     2  1094  29.0   \n",
       "4  https://www.rew.ca/properties/R2222252/1103-17...    2     1   714   3.0   \n",
       "\n",
       "   gross_taxes_2017  strata_maintenance_fees            area     sub_area  \\\n",
       "0            2153.0                    516.0  Vancouver West  False Creek   \n",
       "1            2721.0                    679.0  Vancouver West  False Creek   \n",
       "2            1456.0                    361.0  Vancouver West  False Creek   \n",
       "3            1983.0                    493.0  Vancouver West  False Creek   \n",
       "4            2018.0                    361.0  Vancouver West  False Creek   \n",
       "\n",
       "  property_type               strata_type listing_id  \\\n",
       "0     Apt/Condo           Freehold Strata   R2219336   \n",
       "1     Apt/Condo           Freehold Strata   R2221859   \n",
       "2     Apt/Condo           Freehold Strata   R2220891   \n",
       "3     Apt/Condo  Leasehold prepaid-Strata   R2222093   \n",
       "4     Apt/Condo           Freehold Strata   R2222252   \n",
       "\n",
       "                   primary_broker  \\\n",
       "0           Team 3000 Realty Ltd.   \n",
       "1  Trg The Residential Group Rlty   \n",
       "2                Macdonald Realty   \n",
       "3       Engel & Volkers Vancouver   \n",
       "4   Sutton Grp West Coast (Brdwy)   \n",
       "\n",
       "                                            features  \\\n",
       "0  Air Conditioning, ClthWsh/Dryr/Frdg/Stve/DW, M...   \n",
       "1               ClthWsh/Dryr/Frdg/Stve/DW, Microwave   \n",
       "2                     Dishwasher, Garage Door Opener   \n",
       "3  ClthWsh/Dryr/Frdg/Stve/DW, Disposal - Waste, D...   \n",
       "4  ClthWsh/Dryr/Frdg/Stve/DW, Disposal - Waste, D...   \n",
       "\n",
       "                                           amenities  \\\n",
       "0  Club House, Elevator, Exercise Centre, Garden,...   \n",
       "1  Bike Room, Exercise Centre, In Suite Laundry, ...   \n",
       "2   Elevator, Restaurant, Storage, Wheelchair Access   \n",
       "3        Elevator, Garden, In Suite Laundry, Storage   \n",
       "4  Bike Room, Club House, Elevator, Exercise Cent...   \n",
       "\n",
       "                                         school_info                    latlng  \n",
       "0  [{'name': 'Simon Fraser Elementary School', 'a...  (49.271554, -123.106738)  \n",
       "1  [{'name': 'Simon Fraser Elementary School', 'a...                   MISSING  \n",
       "2  [{'name': 'Henry Hudson Elementary School', 'a...                   MISSING  \n",
       "3  [{'name': 'Henry Hudson Elementary School', 'a...                   MISSING  \n",
       "4  [{'name': 'Simon Fraser Elementary School', 'a...                   MISSING  "
      ]
     },
     "execution_count": 2,
     "metadata": {},
     "output_type": "execute_result"
    }
   ],
   "source": [
    "df = pd.read_csv('./data/round3/rew_round3_with_latlng.csv')\n",
    "df.head()"
   ]
  },
  {
   "cell_type": "markdown",
   "metadata": {},
   "source": [
    "Recall our line equation: \n",
    "$$\n",
    "y = mX + b\n",
    "$$ \n",
    "\n",
    "We set the 'price' column as the dependent variable `y` and the 'sqft' column as the independent variable `X`"
   ]
  },
  {
   "cell_type": "code",
   "execution_count": 3,
   "metadata": {},
   "outputs": [],
   "source": [
    "X = df['sqft']\n",
    "y = df['price']"
   ]
  },
  {
   "cell_type": "code",
   "execution_count": 4,
   "metadata": {},
   "outputs": [
    {
     "data": {
      "text/plain": [
       "<matplotlib.collections.PathCollection at 0x7f9840cb5d30>"
      ]
     },
     "execution_count": 4,
     "metadata": {},
     "output_type": "execute_result"
    },
    {
     "data": {
      "image/png": "[encoded data removed]",
      "text/plain": [
       "<matplotlib.figure.Figure at 0x7f98805e5588>"
      ]
     },
     "metadata": {},
     "output_type": "display_data"
    }
   ],
   "source": [
    "plt.scatter(X,y)"
   ]
  },
  {
   "cell_type": "markdown",
   "metadata": {},
   "source": [
    "We observe a linear relationship between `X` and `y` and we could probably even predict a best fitting line using our eyes"
   ]
  },
  {
   "cell_type": "code",
   "execution_count": 5,
   "metadata": {},
   "outputs": [],
   "source": [
    "regressor = LinearRegression(normalize=True)\n",
    "model = regressor.fit(X.values[:,np.newaxis],y.values[:,np.newaxis])"
   ]
  },
  {
   "cell_type": "code",
   "execution_count": 6,
   "metadata": {},
   "outputs": [
    {
     "data": {
      "text/plain": [
       "<matplotlib.collections.PathCollection at 0x7f988057d3c8>"
      ]
     },
     "execution_count": 6,
     "metadata": {},
     "output_type": "execute_result"
    },
    {
     "data": {
      "image/png": "[encoded data removed]",
      "text/plain": [
       "<matplotlib.figure.Figure at 0x7f9840c87b70>"
      ]
     },
     "metadata": {},
     "output_type": "display_data"
    }
   ],
   "source": [
    "y_pred = model.predict(X.values[:,np.newaxis])\n",
    "plt.scatter(X,y,color='red')\n",
    "plt.scatter(X, y_pred, color='blue', linewidth=3)"
   ]
  },
  {
   "cell_type": "code",
   "execution_count": 42,
   "metadata": {},
   "outputs": [
    {
     "name": "stdout",
     "output_type": "stream",
     "text": [
      "Predicted price is $2.716573186746197M\n"
     ]
    }
   ],
   "source": [
    "new_sqft = 2116\n",
    "predicted_price = model.predict(np.array([[new_sqft]]))\n",
    "print(\"Predicted price is ${}M\".format(predicted_price[0][0]/1e6))"
   ]
  },
  {
   "cell_type": "markdown",
   "metadata": {},
   "source": [
    "## Multivariate Linear Regression"
   ]
  },
  {
   "cell_type": "code",
   "execution_count": 8,
   "metadata": {},
   "outputs": [],
   "source": [
    "X_multi = X = df[['sqft', 'bed', 'bath']]"
   ]
  },
  {
   "cell_type": "code",
   "execution_count": 9,
   "metadata": {},
   "outputs": [],
   "source": [
    "regressor_multi = LinearRegression(normalize=True)\n",
    "model_multi = regressor_multi.fit(X_multi.values,y.values[:,np.newaxis])"
   ]
  },
  {
   "cell_type": "code",
   "execution_count": 48,
   "metadata": {},
   "outputs": [
    {
     "name": "stdout",
     "output_type": "stream",
     "text": [
      "Predicted price is $3137.95431304197M\n"
     ]
    }
   ],
   "source": [
    "new_sqft = 809\n",
    "new_bed = 2\n",
    "new_bath = 2\n",
    "predicted_price = model_multi.predict(np.array([[new_sqft, new_bed, new_bath]]))\n",
    "print(\"Predicted price is ${}M\".format(predicted_price[0][0]/1e6))"
   ]
  },
  {
   "cell_type": "markdown",
   "metadata": {},
   "source": [
    "## Our model is not working! Perhaps due to normalization"
   ]
  },
  {
   "cell_type": "code",
   "execution_count": 25,
   "metadata": {},
   "outputs": [],
   "source": [
    "from sklearn import preprocessing\n",
    "scaler = preprocessing.StandardScaler().fit(X)"
   ]
  },
  {
   "cell_type": "code",
   "execution_count": 27,
   "metadata": {},
   "outputs": [],
   "source": [
    "X_scaled = scaler.transform(X)"
   ]
  },
  {
   "cell_type": "code",
   "execution_count": 28,
   "metadata": {},
   "outputs": [],
   "source": [
    "regressor_multi = LinearRegression(normalize=True)\n",
    "model_multi = regressor_multi.fit(X_scaled,y.values[:,np.newaxis])"
   ]
  },
  {
   "cell_type": "code",
   "execution_count": 49,
   "metadata": {},
   "outputs": [
    {
     "name": "stdout",
     "output_type": "stream",
     "text": [
      "Predicted price is $2.925939179249985M\n"
     ]
    },
    {
     "name": "stderr",
     "output_type": "stream",
     "text": [
      "/usr/local/lib/python3.6/dist-packages/sklearn/utils/validation.py:475: DataConversionWarning: Data with input dtype int64 was converted to float64 by StandardScaler.\n",
      "  warnings.warn(msg, DataConversionWarning)\n"
     ]
    }
   ],
   "source": [
    "new_sqft = 2116\n",
    "new_bed = 3\n",
    "new_bath = 4\n",
    "X_new = np.array([[new_sqft, new_bed, new_bath]])\n",
    "predicted_price = model_multi.predict(scaler.transform(X_new))\n",
    "print(\"Predicted price is ${}M\".format(predicted_price[0][0]/1e6))"
   ]
  },
  {
   "cell_type": "markdown",
   "metadata": {},
   "source": [
    "## We can see that the multivariate performs marginally better. But we need more context for the regressor to perform optimally!\n",
    "Right now we are not using some of the important categorical features such as Area and SubArea"
   ]
  },
  {
   "cell_type": "markdown",
   "metadata": {},
   "source": [
    "# TODO: \n",
    "* ~~Scrape more data with more variables~~\n",
    "* select features\n",
    "* engineer features (dist to schools?, dist to city center?)\n",
    "* Train a basic linear regressor\n",
    "* Train a better model\n",
    "* Train a neural network"
   ]
  },
  {
   "cell_type": "code",
   "execution_count": null,
   "metadata": {},
   "outputs": [],
   "source": []
  }
 ],
 "metadata": {
  "kernelspec": {
   "display_name": "Python 3",
   "language": "python",
   "name": "python3"
  },
  "language_info": {
   "codemirror_mode": {
    "name": "ipython",
    "version": 3
   },
   "file_extension": ".py",
   "mimetype": "text/x-python",
   "name": "python",
   "nbconvert_exporter": "python",
   "pygments_lexer": "ipython3",
   "version": "3.6.3"
  }
 },
 "nbformat": 4,
 "nbformat_minor": 2
}
